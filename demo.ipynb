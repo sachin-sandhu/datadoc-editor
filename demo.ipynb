{
 "cells": [
  {
   "cell_type": "code",
   "execution_count": null,
   "id": "5ef8c5e7-6637-4bbb-b79b-f11063f62d1b",
   "metadata": {},
   "outputs": [],
   "source": [
    "import datadoc\n",
    "print(f\"Version: v{datadoc.__version__}\")"
   ]
  },
  {
   "cell_type": "code",
   "execution_count": null,
   "id": "79d4190c",
   "metadata": {},
   "outputs": [],
   "source": [
    "# Dataset stored in a GCS bucket\n",
    "datadoc.main(\"gs://ssb-staging-dapla-felles-data-delt/datadoc/klargjorte_data/person_data_v1.parquet\")"
   ]
  },
  {
   "cell_type": "code",
   "execution_count": null,
   "id": "03d11b90",
   "metadata": {},
   "outputs": [],
   "source": [
    "# Dataset stored in the local filesystem\n",
    "datadoc.main(\"./klargjorte_data/befolkning/person_testdata_p2021-12-31_p2021-12-31_v1.parquet\")"
   ]
  }
 ],
 "metadata": {
  "kernelspec": {
   "display_name": "Python 3.10.4 ('ssb-datadoc-olHJJX1t-py3.10')",
   "language": "python",
   "name": "python3"
  },
  "language_info": {
   "codemirror_mode": {
    "name": "ipython",
    "version": 3
   },
   "file_extension": ".py",
   "mimetype": "text/x-python",
   "name": "python",
   "nbconvert_exporter": "python",
   "pygments_lexer": "ipython3",
   "version": "3.11.3"
  },
  "vscode": {
   "interpreter": {
    "hash": "62e18fbeb7172c8fb6228a101ab782cf4345e9d504f491793f8010a13357a464"
   }
  }
 },
 "nbformat": 4,
 "nbformat_minor": 5
}
