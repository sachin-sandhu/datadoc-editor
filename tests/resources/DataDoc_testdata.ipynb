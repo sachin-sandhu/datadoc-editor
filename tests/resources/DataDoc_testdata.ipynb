{
 "cells": [
  {
   "cell_type": "code",
   "execution_count": 1,
   "id": "53eee078-e8b9-4453-aaf4-8a78458ce867",
   "metadata": {},
   "outputs": [
    {
     "name": "stdout",
     "output_type": "stream",
     "text": [
      "       pers_id  tidspunkt sivilstand  alm_inntekt  sykepenger  \\\n",
      "0  XYZ010203QP 2022-01-01          2       950000           0   \n",
      "1  ZSY020304RS 2022-01-01          4       350000      250000   \n",
      "2  QLZ030405PL 2022-01-01          3       300000           0   \n",
      "3  AQC050506LQ 2022-01-01          1       700000       50000   \n",
      "\n",
      "   ber_bruttoformue fullf_utdanning hoveddiagnose  \n",
      "0            500000            7371           NaN  \n",
      "1            100000            6221            04  \n",
      "2            200000            5611           NaN  \n",
      "3                 0            7814            15  \n",
      "pers_id:string:True\n",
      "tidspunkt:timestamp[us]:True\n",
      "sivilstand:string:True\n",
      "alm_inntekt:int64:True\n",
      "sykepenger:int64:True\n",
      "ber_bruttoformue:int64:True\n",
      "fullf_utdanning:string:True\n",
      "hoveddiagnose:string:True\n"
     ]
    }
   ],
   "source": [
    "import pandas as pd\n",
    "import pyarrow as pa\n",
    "import pyarrow.parquet as pq\n",
    "\n",
    "# Create Parquet test datasets\n",
    "person_data = pd.read_csv(\"person_data.csv\",\n",
    "                            sep=';',\n",
    "                            dtype={\n",
    "                                'pers_id': str,\n",
    "                                'tidspunkt': str,\n",
    "                                'sivilstand': str,\n",
    "                                'alm_inntekt': int,\n",
    "                                'sykepenger': int,\n",
    "                                'ber_bruttoformue': int,\n",
    "                                'fullf_utdanning': str,\n",
    "                                'hoveddiagnose': str\n",
    "                            },\n",
    "                            parse_dates=['tidspunkt']\n",
    "                         )\n",
    "print(person_data)\n",
    "# print(person_data.info())\n",
    "\n",
    "person_data.to_parquet('person_data.parquet')\n",
    "\n",
    "#metadata = pq.read_metadata('person_data.parquet')\n",
    "#print(metadata)\n",
    "\n",
    "#meta = pq.ParquetFile('person_data.parquet')\n",
    "#print(meta.schema)\n",
    "#for var in meta.schema:\n",
    "#    print(str(var.name) + \":\" + str(var.type) + \":\" + str(var.nullable))\n",
    "\n",
    "table = pq.read_table('person_data.parquet')\n",
    "#print(table.schema)\n",
    "#for var in table.schema:\n",
    "#    print(var)\n",
    "    \n",
    "#print(\"Column names: {}\".format(table.column_names))\n",
    "#print(\"Column types: {}\".format(table.types))\n",
    "#print(\"Schema: {}\".format(table.schema))\n",
    "\n",
    "#print(table.schema.field(\"pers_id\").metadata)\n",
    "for var in table.schema:\n",
    "    print(str(var.name) + \":\" + str(var.type) + \":\" + str(var.nullable))\n",
    "    #print(var.metadata)\n",
    "    #print(var.nullable)\n"
   ]
  },
  {
   "cell_type": "code",
   "execution_count": null,
   "id": "21d3e7cd-fd09-4348-884b-130d206cf002",
   "metadata": {},
   "outputs": [],
   "source": []
  }
 ],
 "metadata": {
  "kernelspec": {
   "display_name": "Pyspark (local)",
   "language": "python",
   "name": "pyspark_local"
  },
  "language_info": {
   "codemirror_mode": {
    "name": "ipython",
    "version": 3
   },
   "file_extension": ".py",
   "mimetype": "text/x-python",
   "name": "python",
   "nbconvert_exporter": "python",
   "pygments_lexer": "ipython3",
   "version": "3.9.10"
  }
 },
 "nbformat": 4,
 "nbformat_minor": 5
}
