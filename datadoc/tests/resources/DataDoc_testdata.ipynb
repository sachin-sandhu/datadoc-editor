{
 "cells": [
  {
   "cell_type": "code",
   "execution_count": null,
   "id": "53eee078-e8b9-4453-aaf4-8a78458ce867",
   "metadata": {},
   "outputs": [],
   "source": [
    "import pandas as pd\n",
    "import pyarrow as pa\n",
    "import pyarrow.parquet as pq\n",
    "\n",
    "# Create Parquet test datasets\n",
    "person_data = pd.read_csv(\"person_data.csv\",\n",
    "                            sep=';',\n",
    "                            dtype={\n",
    "                                'pers_id': str,\n",
    "                                'tidspunkt': str,\n",
    "                                'sivilstand': str,\n",
    "                                'alm_inntekt': int,\n",
    "                                'sykepenger': int,\n",
    "                                'ber_bruttoformue': int,\n",
    "                                'fullf_utdanning': str,\n",
    "                                'hoveddiagnose': str\n",
    "                            },\n",
    "                            parse_dates=['tidspunkt']\n",
    "                         )\n",
    "print(person_data)\n",
    "# print(person_data.info())\n",
    "\n",
    "person_data.to_parquet('person_data.parquet')\n",
    "\n",
    "#metadata = pq.read_metadata('person_data.parquet')\n",
    "#print(metadata)\n",
    "\n",
    "#meta = pq.ParquetFile('person_data.parquet')\n",
    "#print(meta.schema)\n",
    "#for var in meta.schema:\n",
    "#    print(str(var.name) + \":\" + str(var.type) + \":\" + str(var.nullable))\n",
    "\n",
    "table = pq.read_table('person_data.parquet')\n",
    "#print(table.schema)\n",
    "#for var in table.schema:\n",
    "#    print(var)\n",
    "    \n",
    "#print(\"Column names: {}\".format(table.column_names))\n",
    "#print(\"Column types: {}\".format(table.types))\n",
    "#print(\"Schema: {}\".format(table.schema))\n",
    "\n",
    "#print(table.schema.field(\"pers_id\").metadata)\n",
    "for var in table.schema:\n",
    "    print(str(var.name) + \":\" + str(var.type) + \":\" + str(var.nullable))\n",
    "    #print(var.metadata)\n",
    "    #print(var.nullable)\n"
   ]
  },
  {
   "cell_type": "code",
   "execution_count": null,
   "id": "21d3e7cd-fd09-4348-884b-130d206cf002",
   "metadata": {},
   "outputs": [],
   "source": []
  }
 ],
 "metadata": {
  "kernelspec": {
   "display_name": "Pyspark (local)",
   "language": "python",
   "name": "pyspark_local"
  },
  "language_info": {
   "codemirror_mode": {
    "name": "ipython",
    "version": 3
   },
   "file_extension": ".py",
   "mimetype": "text/x-python",
   "name": "python",
   "nbconvert_exporter": "python",
   "pygments_lexer": "ipython3",
   "version": "3.9.10"
  }
 },
 "nbformat": 4,
 "nbformat_minor": 5
}
