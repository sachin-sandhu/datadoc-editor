{
 "cells": [
  {
   "cell_type": "code",
   "execution_count": 3,
   "id": "dbdcfa05",
   "metadata": {
    "scrolled": true
   },
   "outputs": [
    {
     "name": "stdout",
     "output_type": "stream",
     "text": [
      "JUPYTERHUB_USER env variable not set, using default for current_user\n"
     ]
    },
    {
     "data": {
      "application/vnd.jupyter.widget-view+json": {
       "model_id": "711df109196548ea807928d543330e43",
       "version_major": 2,
       "version_minor": 0
      },
      "text/plain": [
       "HTML(value=\"<h1 style='font-size:20px'>DataDoc - dokumentasjon av datasett og variabler</h1>\")"
      ]
     },
     "metadata": {},
     "output_type": "display_data"
    },
    {
     "data": {
      "application/vnd.jupyter.widget-view+json": {
       "model_id": "c4a5f12bc4974495bf2005bc4d7192f0",
       "version_major": 2,
       "version_minor": 0
      },
      "text/plain": [
       "HBox(children=(Button(description='Lagre', style=ButtonStyle(), tooltip='Lagre datadokumentasjon til fil (JSON…"
      ]
     },
     "metadata": {},
     "output_type": "display_data"
    },
    {
     "data": {
      "application/vnd.jupyter.widget-view+json": {
       "model_id": "0904522799f04e9ab5028d725dbe92e6",
       "version_major": 2,
       "version_minor": 0
      },
      "text/plain": [
       "HTML(value=\"<h1 style='font-size:16px'>Datasett</h1>\")"
      ]
     },
     "metadata": {},
     "output_type": "display_data"
    },
    {
     "data": {
      "application/vnd.jupyter.widget-view+json": {
       "model_id": "cb3366378da2404bb06d726006d87704",
       "version_major": 2,
       "version_minor": 0
      },
      "text/plain": [
       "Text(value='person_data_v1', description='Kortnavn:', placeholder='Oppgi datasett kortnavn')"
      ]
     },
     "metadata": {},
     "output_type": "display_data"
    },
    {
     "data": {
      "application/vnd.jupyter.widget-view+json": {
       "model_id": "9df3fc7a16ff44e0b337c27f841565a2",
       "version_major": 2,
       "version_minor": 0
      },
      "text/plain": [
       "Text(value='', description='Navn:', layout=Layout(height='auto', width='50%'), placeholder='Oppgi datasett nav…"
      ]
     },
     "metadata": {},
     "output_type": "display_data"
    },
    {
     "data": {
      "application/vnd.jupyter.widget-view+json": {
       "model_id": "7757771ce8c14d7189efd3f7fcbae94a",
       "version_major": 2,
       "version_minor": 0
      },
      "text/plain": [
       "Textarea(value='', description='Beskrivelse:', layout=Layout(height='auto', width='50%'), placeholder='Oppgi d…"
      ]
     },
     "metadata": {},
     "output_type": "display_data"
    },
    {
     "data": {
      "application/vnd.jupyter.widget-view+json": {
       "model_id": "117861a09e2e4f4998c547b7b2ae0539",
       "version_major": 2,
       "version_minor": 0
      },
      "text/plain": [
       "Accordion(children=(VBox(children=(Dropdown(description='Datatilstand:', index=2, options=(('Kildedata', 'SOUR…"
      ]
     },
     "metadata": {},
     "output_type": "display_data"
    },
    {
     "data": {
      "application/vnd.jupyter.widget-view+json": {
       "model_id": "f222537653084b2dabfaae8b9e5aa30c",
       "version_major": 2,
       "version_minor": 0
      },
      "text/plain": [
       "Accordion(children=(Sheet(cells=(Cell(column_end=0, column_start=0, row_end=0, row_start=0, type='text', value…"
      ]
     },
     "metadata": {},
     "output_type": "display_data"
    },
    {
     "data": {
      "application/vnd.jupyter.widget-view+json": {
       "model_id": "2d2378dbbb51483aaa5c147335353aee",
       "version_major": 2,
       "version_minor": 0
      },
      "text/plain": [
       "HTML(value=\"<a style='font-size:16px;color:blue' href=https://www.ssb.no/a/metadata/definisjoner/variabler/mai…"
      ]
     },
     "metadata": {},
     "output_type": "display_data"
    },
    {
     "data": {
      "text/plain": [
       "<DataDoc.DataDocGui at 0x1057995e0>"
      ]
     },
     "execution_count": 3,
     "metadata": {},
     "output_type": "execute_result"
    },
    {
     "name": "stdout",
     "output_type": "stream",
     "text": [
      "DataDoc metadata saved to file /Users/mmwinther/code/datadoc-prototype/klargjorte_data/person_data_v1__DOC.json\n"
     ]
    }
   ],
   "source": [
    "import DataDoc as dd\n",
    "\n",
    "# dd.DataDocGui('person_data.parquet')\n",
    "dd.DataDocGui('./klargjorte_data/person_data_v1.parquet')"
   ]
  },
  {
   "cell_type": "code",
   "execution_count": null,
   "id": "90c9323a",
   "metadata": {},
   "outputs": [],
   "source": []
  },
  {
   "cell_type": "code",
   "execution_count": null,
   "id": "aa347324",
   "metadata": {},
   "outputs": [],
   "source": []
  }
 ],
 "metadata": {
  "interpreter": {
   "hash": "d59f6e9384a094d52d30bff20975cbd1f3d4c53c13e2f48c405d3fc75a05a1f6"
  },
  "kernelspec": {
   "display_name": "datadoc",
   "language": "python",
   "name": "datadoc"
  },
  "language_info": {
   "codemirror_mode": {
    "name": "ipython",
    "version": 3
   },
   "file_extension": ".py",
   "mimetype": "text/x-python",
   "name": "python",
   "nbconvert_exporter": "python",
   "pygments_lexer": "ipython3",
   "version": "3.8.12"
  }
 },
 "nbformat": 4,
 "nbformat_minor": 5
}
