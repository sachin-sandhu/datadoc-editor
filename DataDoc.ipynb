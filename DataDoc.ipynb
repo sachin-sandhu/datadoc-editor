{
 "cells": [
  {
   "cell_type": "code",
   "execution_count": 1,
   "id": "5ef8c5e7-6637-4bbb-b79b-f11063f62d1b",
   "metadata": {},
   "outputs": [
    {
     "data": {
      "application/vnd.jupyter.widget-view+json": {
       "model_id": "cfeaeff886584f0a8f78ef0b059a4832",
       "version_major": 2,
       "version_minor": 0
      },
      "text/plain": [
       "HTML(value=\"<h1 style='font-size:20px'>DataDoc - dokumentasjon av datasett og variabler</h1>\")"
      ]
     },
     "metadata": {},
     "output_type": "display_data"
    },
    {
     "data": {
      "application/vnd.jupyter.widget-view+json": {
       "model_id": "9fe7e24f40b64b478bb333b88c1d4322",
       "version_major": 2,
       "version_minor": 0
      },
      "text/plain": [
       "HBox(children=(Button(description='Lagre', style=ButtonStyle(), tooltip='Lagre datadokumentasjon til fil (JSON…"
      ]
     },
     "metadata": {},
     "output_type": "display_data"
    },
    {
     "data": {
      "application/vnd.jupyter.widget-view+json": {
       "model_id": "70e2357f2aea4c64bb6e16cbb6bdd340",
       "version_major": 2,
       "version_minor": 0
      },
      "text/plain": [
       "HTML(value=\"<h1 style='font-size:16px'>Datasett</h1>\")"
      ]
     },
     "metadata": {},
     "output_type": "display_data"
    },
    {
     "data": {
      "application/vnd.jupyter.widget-view+json": {
       "model_id": "e6277c9da4a041bd8f07c1b961dd48f8",
       "version_major": 2,
       "version_minor": 0
      },
      "text/plain": [
       "Text(value='person_data_v1', description='Kortnavn:', placeholder='Oppgi datasett kortnavn')"
      ]
     },
     "metadata": {},
     "output_type": "display_data"
    },
    {
     "data": {
      "application/vnd.jupyter.widget-view+json": {
       "model_id": "b0dc47df46744c38a7f4ec7d28d2ef6c",
       "version_major": 2,
       "version_minor": 0
      },
      "text/plain": [
       "Text(value='', description='Navn:', layout=Layout(height='auto', width='50%'), placeholder='Oppgi datasett nav…"
      ]
     },
     "metadata": {},
     "output_type": "display_data"
    },
    {
     "data": {
      "application/vnd.jupyter.widget-view+json": {
       "model_id": "7e4629cafd954dbc833d02dac1c39b16",
       "version_major": 2,
       "version_minor": 0
      },
      "text/plain": [
       "Textarea(value='', description='Beskrivelse:', layout=Layout(height='auto', width='50%'), placeholder='Oppgi d…"
      ]
     },
     "metadata": {},
     "output_type": "display_data"
    },
    {
     "data": {
      "application/vnd.jupyter.widget-view+json": {
       "model_id": "c645264030dc44da91ac001613f7bd91",
       "version_major": 2,
       "version_minor": 0
      },
      "text/plain": [
       "Accordion(children=(VBox(children=(Dropdown(description='Datatilstand:', index=2, options=(('Kildedata', 'SOUR…"
      ]
     },
     "metadata": {},
     "output_type": "display_data"
    },
    {
     "data": {
      "application/vnd.jupyter.widget-view+json": {
       "model_id": "d89586d94e2d41b9a10aef89c14b8df4",
       "version_major": 2,
       "version_minor": 0
      },
      "text/plain": [
       "Accordion(children=(Sheet(cells=(Cell(column_end=0, column_start=0, row_end=0, row_start=0, type='text', value…"
      ]
     },
     "metadata": {},
     "output_type": "display_data"
    },
    {
     "data": {
      "application/vnd.jupyter.widget-view+json": {
       "model_id": "e3c1bb8da2b547fab48e05161852461f",
       "version_major": 2,
       "version_minor": 0
      },
      "text/plain": [
       "HTML(value=\"<a style='font-size:16px;color:blue' href=https://www.ssb.no/a/metadata/definisjoner/variabler/mai…"
      ]
     },
     "metadata": {},
     "output_type": "display_data"
    },
    {
     "data": {
      "text/plain": [
       "<DataDoc.DataDocGui at 0x7fd670c02f40>"
      ]
     },
     "execution_count": 1,
     "metadata": {},
     "output_type": "execute_result"
    }
   ],
   "source": [
    "import datadoc.DataDoc as dd\n",
    "dd.DataDocGui('./klargjorte_data/person_data_v1.parquet')"
   ]
  }
 ],
 "metadata": {
  "interpreter": {
   "hash": "d59f6e9384a094d52d30bff20975cbd1f3d4c53c13e2f48c405d3fc75a05a1f6"
  },
  "kernelspec": {
   "display_name": "Python 3.8.12 ('datadoc-elO-qrNj-py3.8')",
   "language": "python",
   "name": "python3"
  },
  "language_info": {
   "codemirror_mode": {
    "name": "ipython",
    "version": 3
   },
   "file_extension": ".py",
   "mimetype": "text/x-python",
   "name": "python",
   "nbconvert_exporter": "python",
   "pygments_lexer": "ipython3",
   "version": "3.8.12"
  }
 },
 "nbformat": 4,
 "nbformat_minor": 5
}
