{
 "cells": [
  {
   "cell_type": "code",
   "execution_count": 1,
   "id": "dbdcfa05",
   "metadata": {
    "scrolled": true
   },
   "outputs": [
    {
     "name": "stdout",
     "output_type": "stream",
     "text": [
      "JUPYTERHUB_USER env variable not set, using default for current_user\n"
     ]
    },
    {
     "data": {
      "application/vnd.jupyter.widget-view+json": {
       "model_id": "8d3dcade6f6f40f1a644bf0a5ecb11dc",
       "version_major": 2,
       "version_minor": 0
      },
      "text/plain": [
       "HTML(value=\"<h1 style='font-size:20px'>DataDoc - dokumentasjon av datasett og variabler</h1>\")"
      ]
     },
     "metadata": {},
     "output_type": "display_data"
    },
    {
     "data": {
      "application/vnd.jupyter.widget-view+json": {
       "model_id": "52c6af3587a94316b74cdcaab60963dd",
       "version_major": 2,
       "version_minor": 0
      },
      "text/plain": [
       "HBox(children=(Button(description='Lagre', style=ButtonStyle(), tooltip='Lagre datadokumentasjon til fil (JSON…"
      ]
     },
     "metadata": {},
     "output_type": "display_data"
    },
    {
     "data": {
      "application/vnd.jupyter.widget-view+json": {
       "model_id": "0229af7891e649fa8ea9fffb630b0bb3",
       "version_major": 2,
       "version_minor": 0
      },
      "text/plain": [
       "HTML(value=\"<h1 style='font-size:16px'>Datasett</h1>\")"
      ]
     },
     "metadata": {},
     "output_type": "display_data"
    },
    {
     "data": {
      "application/vnd.jupyter.widget-view+json": {
       "model_id": "9114dfa45f9846db8f9e4d723905d850",
       "version_major": 2,
       "version_minor": 0
      },
      "text/plain": [
       "Text(value='person_data_v1', description='Kortnavn:', placeholder='Oppgi datasett kortnavn')"
      ]
     },
     "metadata": {},
     "output_type": "display_data"
    },
    {
     "data": {
      "application/vnd.jupyter.widget-view+json": {
       "model_id": "d148911712ae480d9dc61331a2091b82",
       "version_major": 2,
       "version_minor": 0
      },
      "text/plain": [
       "Text(value='', description='Navn:', layout=Layout(height='auto', width='50%'), placeholder='Oppgi datasett nav…"
      ]
     },
     "metadata": {},
     "output_type": "display_data"
    },
    {
     "data": {
      "application/vnd.jupyter.widget-view+json": {
       "model_id": "e04348700cdb40a6b359d215aea2510e",
       "version_major": 2,
       "version_minor": 0
      },
      "text/plain": [
       "Textarea(value='', description='Beskrivelse:', layout=Layout(height='auto', width='50%'), placeholder='Oppgi d…"
      ]
     },
     "metadata": {},
     "output_type": "display_data"
    },
    {
     "data": {
      "application/vnd.jupyter.widget-view+json": {
       "model_id": "2f3f58bf992f4c829fedf510b4f2d2f1",
       "version_major": 2,
       "version_minor": 0
      },
      "text/plain": [
       "Accordion(children=(VBox(children=(Dropdown(description='Datatilstand:', index=2, options=(('Kildedata', 'SOUR…"
      ]
     },
     "metadata": {},
     "output_type": "display_data"
    },
    {
     "data": {
      "application/vnd.jupyter.widget-view+json": {
       "model_id": "f98039bd82bf42fca49261b432f834d5",
       "version_major": 2,
       "version_minor": 0
      },
      "text/plain": [
       "Accordion(children=(Sheet(cells=(Cell(column_end=0, column_start=0, row_end=0, row_start=0, type='text', value…"
      ]
     },
     "metadata": {},
     "output_type": "display_data"
    },
    {
     "data": {
      "application/vnd.jupyter.widget-view+json": {
       "model_id": "32008c34b86b40548b1a7fb3920b7fce",
       "version_major": 2,
       "version_minor": 0
      },
      "text/plain": [
       "HTML(value=\"<a style='font-size:16px;color:blue' href=https://www.ssb.no/a/metadata/definisjoner/variabler/mai…"
      ]
     },
     "metadata": {},
     "output_type": "display_data"
    },
    {
     "data": {
      "text/plain": [
       "<DataDoc.DataDocGui at 0x102f860a0>"
      ]
     },
     "execution_count": 1,
     "metadata": {},
     "output_type": "execute_result"
    }
   ],
   "source": [
    "import DataDoc as dd\n",
    "\n",
    "# dd.DataDocGui('person_data.parquet')\n",
    "dd.DataDocGui('./klargjorte_data/person_data_v1.parquet')"
   ]
  },
  {
   "cell_type": "code",
   "execution_count": null,
   "id": "90c9323a",
   "metadata": {},
   "outputs": [],
   "source": []
  },
  {
   "cell_type": "code",
   "execution_count": null,
   "id": "aa347324",
   "metadata": {},
   "outputs": [],
   "source": []
  }
 ],
 "metadata": {
  "interpreter": {
   "hash": "d59f6e9384a094d52d30bff20975cbd1f3d4c53c13e2f48c405d3fc75a05a1f6"
  },
  "kernelspec": {
   "display_name": "datadoc",
   "language": "python",
   "name": "datadoc"
  },
  "language_info": {
   "codemirror_mode": {
    "name": "ipython",
    "version": 3
   },
   "file_extension": ".py",
   "mimetype": "text/x-python",
   "name": "python",
   "nbconvert_exporter": "python",
   "pygments_lexer": "ipython3",
   "version": "3.8.12"
  }
 },
 "nbformat": 4,
 "nbformat_minor": 5
}
